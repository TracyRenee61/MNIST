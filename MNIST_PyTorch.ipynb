{
  "nbformat": 4,
  "nbformat_minor": 0,
  "metadata": {
    "kernelspec": {
      "display_name": "Python 3",
      "language": "python",
      "name": "python3"
    },
    "language_info": {
      "codemirror_mode": {
        "name": "ipython",
        "version": 3
      },
      "file_extension": ".py",
      "mimetype": "text/x-python",
      "name": "python",
      "nbconvert_exporter": "python",
      "pygments_lexer": "ipython3",
      "version": "3.6.8"
    },
    "colab": {
      "name": "MNIST - PyTorch.ipynb",
      "provenance": []
    },
    "accelerator": "GPU"
  },
  "cells": [
    {
      "cell_type": "markdown",
      "metadata": {
        "id": "Zb-NdwiVnP7p"
      },
      "source": [
        "# MNIST with SciKit-Learn and skorch\n",
        "\n",
        "This notebooks shows how to define and train a simple Neural-Network with PyTorch and use it via skorch with SciKit-Learn.\n",
        "\n",
        "<table align=\"left\"><td>\n",
        "<a target=\"_blank\" href=\"https://colab.research.google.com/github/skorch-dev/skorch/blob/master/notebooks/MNIST.ipynb\">\n",
        "    <img src=\"https://www.tensorflow.org/images/colab_logo_32px.png\" />Run in Google Colab</a>  \n",
        "</td><td>\n",
        "<a target=\"_blank\" href=\"https://github.com/skorch-dev/skorch/blob/master/notebooks/MNIST.ipynb\"><img width=32px src=\"https://www.tensorflow.org/images/GitHub-Mark-32px.png\" />View source on GitHub</a></td></table>"
      ]
    },
    {
      "cell_type": "markdown",
      "metadata": {
        "id": "j8v2cnGAnP7w"
      },
      "source": [
        "**Note**: If you are running this in [a colab notebook](https://colab.research.google.com/github/skorch-dev/skorch/blob/master/notebooks/MNIST.ipynb), we recommend you enable a free GPU by going:\n",
        "\n",
        "> **Runtime**   →   **Change runtime type**   →   **Hardware Accelerator: GPU**\n",
        "\n",
        "If you are running in colab, you should install the dependencies and download the dataset by running the following cell:"
      ]
    },
    {
      "cell_type": "code",
      "metadata": {
        "id": "t_OvdtkunP7x",
        "colab": {
          "base_uri": "https://localhost:8080/"
        },
        "outputId": "570f7c27-1122-45e1-c946-94c4fd39b4b1"
      },
      "source": [
        "! [ ! -z \"$COLAB_GPU\" ] && pip install torch scikit-learn==0.20.* skorch"
      ],
      "execution_count": 79,
      "outputs": [
        {
          "output_type": "stream",
          "text": [
            "Requirement already satisfied: torch in /usr/local/lib/python3.7/dist-packages (1.8.1+cu101)\n",
            "Requirement already satisfied: scikit-learn==0.20.* in /usr/local/lib/python3.7/dist-packages (0.20.4)\n",
            "Requirement already satisfied: skorch in /usr/local/lib/python3.7/dist-packages (0.10.0)\n",
            "Requirement already satisfied: numpy in /usr/local/lib/python3.7/dist-packages (from torch) (1.19.5)\n",
            "Requirement already satisfied: typing-extensions in /usr/local/lib/python3.7/dist-packages (from torch) (3.7.4.3)\n",
            "Requirement already satisfied: scipy>=0.13.3 in /usr/local/lib/python3.7/dist-packages (from scikit-learn==0.20.*) (1.4.1)\n",
            "Requirement already satisfied: tqdm>=4.14.0 in /usr/local/lib/python3.7/dist-packages (from skorch) (4.41.1)\n",
            "Requirement already satisfied: tabulate>=0.7.7 in /usr/local/lib/python3.7/dist-packages (from skorch) (0.8.9)\n"
          ],
          "name": "stdout"
        }
      ]
    },
    {
      "cell_type": "code",
      "metadata": {
        "id": "AmN_BNNinP7x"
      },
      "source": [
        "from sklearn.datasets import fetch_openml\n",
        "from sklearn.model_selection import train_test_split\n",
        "import numpy as np\n",
        "import pandas as pd\n",
        "import matplotlib.pyplot as plt"
      ],
      "execution_count": 80,
      "outputs": []
    },
    {
      "cell_type": "markdown",
      "metadata": {
        "id": "0StUBHh0nP7y"
      },
      "source": [
        "## Loading Data\n",
        "Using SciKit-Learns ```fetch_openml``` to load MNIST data."
      ]
    },
    {
      "cell_type": "code",
      "metadata": {
        "id": "ekmwMFIrnP7y"
      },
      "source": [
        "mnist = fetch_openml('mnist_784', cache=False)"
      ],
      "execution_count": 81,
      "outputs": []
    },
    {
      "cell_type": "code",
      "metadata": {
        "id": "D7KJB5e9nP7y",
        "colab": {
          "base_uri": "https://localhost:8080/"
        },
        "outputId": "a6392bad-a26d-4803-97b3-25a2aae0be1f"
      },
      "source": [
        "mnist.data.shape"
      ],
      "execution_count": 82,
      "outputs": [
        {
          "output_type": "execute_result",
          "data": {
            "text/plain": [
              "(70000, 784)"
            ]
          },
          "metadata": {
            "tags": []
          },
          "execution_count": 82
        }
      ]
    },
    {
      "cell_type": "markdown",
      "metadata": {
        "id": "h_d_cMRGnP70"
      },
      "source": [
        "## Preprocessing Data\n",
        "\n",
        "Each image of the MNIST dataset is encoded in a 784 dimensional vector, representing a 28 x 28 pixel image. Each pixel has a value between 0 and 255, corresponding to the grey-value of a pixel.<br />\n",
        "The above ```featch_mldata``` method to load MNIST returns ```data``` and ```target``` as ```uint8``` which we convert to ```float32``` and ```int64``` respectively."
      ]
    },
    {
      "cell_type": "code",
      "metadata": {
        "id": "YgbMMCC4nP70"
      },
      "source": [
        "X = mnist.data.astype('float32')\n",
        "y = mnist.target.astype('int64')"
      ],
      "execution_count": 83,
      "outputs": []
    },
    {
      "cell_type": "markdown",
      "metadata": {
        "id": "oqJOmi0VnP71"
      },
      "source": [
        "To avoid big weights that deal with the pixel values from between [0, 255], we scale `X` down. A commonly used range is [0, 1]."
      ]
    },
    {
      "cell_type": "code",
      "metadata": {
        "id": "0BpdAw8BnP71"
      },
      "source": [
        "X /= 255.0"
      ],
      "execution_count": 84,
      "outputs": []
    },
    {
      "cell_type": "code",
      "metadata": {
        "id": "6_IeO4kvnP71",
        "colab": {
          "base_uri": "https://localhost:8080/"
        },
        "outputId": "5363a400-60e6-4367-fe11-ed6cfac02c72"
      },
      "source": [
        "X.min(), X.max()"
      ],
      "execution_count": 85,
      "outputs": [
        {
          "output_type": "execute_result",
          "data": {
            "text/plain": [
              "(0.0, 1.0)"
            ]
          },
          "metadata": {
            "tags": []
          },
          "execution_count": 85
        }
      ]
    },
    {
      "cell_type": "markdown",
      "metadata": {
        "id": "-EC9IKHtnP72"
      },
      "source": [
        "Note: data is not normalized."
      ]
    },
    {
      "cell_type": "code",
      "metadata": {
        "id": "4fLGbNsGnP72"
      },
      "source": [
        "X_train, X_test, y_train, y_test = train_test_split(X, y, test_size=0.1, random_state=1)"
      ],
      "execution_count": 86,
      "outputs": []
    },
    {
      "cell_type": "code",
      "metadata": {
        "id": "LRxI6DCinP72"
      },
      "source": [
        "assert(X_train.shape[0] + X_test.shape[0] == mnist.data.shape[0])"
      ],
      "execution_count": 87,
      "outputs": []
    },
    {
      "cell_type": "code",
      "metadata": {
        "id": "AYG8_Z1wnP73",
        "colab": {
          "base_uri": "https://localhost:8080/"
        },
        "outputId": "c58ed7d9-f7f6-4717-d5f7-1a4def18848b"
      },
      "source": [
        "X_train.shape, y_train.shape"
      ],
      "execution_count": 88,
      "outputs": [
        {
          "output_type": "execute_result",
          "data": {
            "text/plain": [
              "((63000, 784), (63000,))"
            ]
          },
          "metadata": {
            "tags": []
          },
          "execution_count": 88
        }
      ]
    },
    {
      "cell_type": "markdown",
      "metadata": {
        "id": "OVww1-vEnP73"
      },
      "source": [
        "### Print a selection of training images and their labels"
      ]
    },
    {
      "cell_type": "code",
      "metadata": {
        "id": "NzuQdJ9anP73"
      },
      "source": [
        "def plot_example(X, y):\n",
        "    \"\"\"Plot the first 5 images and their labels in a row.\"\"\"\n",
        "    for i, (img, y) in enumerate(zip(X[:5].reshape(5, 28, 28), y[:5])):\n",
        "        plt.subplot(151 + i)\n",
        "        plt.imshow(img)\n",
        "        plt.xticks([])\n",
        "        plt.yticks([])\n",
        "        plt.title(y)"
      ],
      "execution_count": 89,
      "outputs": []
    },
    {
      "cell_type": "code",
      "metadata": {
        "id": "Pvi1fJionP74",
        "colab": {
          "base_uri": "https://localhost:8080/",
          "height": 108
        },
        "outputId": "62ea9c4a-6159-44b2-b2a8-d6c7d56244ea"
      },
      "source": [
        "plot_example(X_train, y_train)"
      ],
      "execution_count": 90,
      "outputs": [
        {
          "output_type": "display_data",
          "data": {
            "image/png": "[encoded data removed]",
            "text/plain": [
              "<Figure size 432x288 with 5 Axes>"
            ]
          },
          "metadata": {
            "tags": []
          }
        }
      ]
    },
    {
      "cell_type": "markdown",
      "metadata": {
        "id": "DMASNXpUnP74"
      },
      "source": [
        "## Build Neural Network with PyTorch\n",
        "Simple, fully connected neural network with one hidden layer. Input layer has 784 dimensions (28x28), hidden layer has 98 (= 784 / 8) and output layer 10 neurons, representing digits 0 - 9."
      ]
    },
    {
      "cell_type": "code",
      "metadata": {
        "id": "T_Wf9faxnP74"
      },
      "source": [
        "import torch\n",
        "from torch import nn\n",
        "import torch.nn.functional as F"
      ],
      "execution_count": 91,
      "outputs": []
    },
    {
      "cell_type": "code",
      "metadata": {
        "id": "yy1RPhtPnP74",
        "colab": {
          "base_uri": "https://localhost:8080/"
        },
        "outputId": "6cc6dad7-a81b-4dcf-a40c-0122b7de9abc"
      },
      "source": [
        "device = 'cuda' if torch.cuda.is_available() else 'cpu'\n",
        "print(device)"
      ],
      "execution_count": 92,
      "outputs": [
        {
          "output_type": "stream",
          "text": [
            "cuda\n"
          ],
          "name": "stdout"
        }
      ]
    },
    {
      "cell_type": "code",
      "metadata": {
        "id": "bzdGOM2anP78"
      },
      "source": [
        "mnist_dim = X.shape[1]\n",
        "hidden_dim = int(mnist_dim/8)\n",
        "output_dim = len(np.unique(mnist.target))"
      ],
      "execution_count": 93,
      "outputs": []
    },
    {
      "cell_type": "code",
      "metadata": {
        "id": "Anpe7vwqnP79",
        "colab": {
          "base_uri": "https://localhost:8080/"
        },
        "outputId": "e162ed29-8390-4951-af10-78440e68f434"
      },
      "source": [
        "mnist_dim, hidden_dim, output_dim"
      ],
      "execution_count": 94,
      "outputs": [
        {
          "output_type": "execute_result",
          "data": {
            "text/plain": [
              "(784, 98, 10)"
            ]
          },
          "metadata": {
            "tags": []
          },
          "execution_count": 94
        }
      ]
    },
    {
      "cell_type": "markdown",
      "metadata": {
        "id": "FsG4eeO5nP79"
      },
      "source": [
        "A Neural network in PyTorch's framework."
      ]
    },
    {
      "cell_type": "code",
      "metadata": {
        "id": "X5oTSOM4nP79"
      },
      "source": [
        "class ClassifierModule(nn.Module):\n",
        "    def __init__(\n",
        "            self,\n",
        "            input_dim=mnist_dim,\n",
        "            hidden_dim=hidden_dim,\n",
        "            output_dim=output_dim,\n",
        "            dropout=0.5,\n",
        "    ):\n",
        "        super(ClassifierModule, self).__init__()\n",
        "        self.dropout = nn.Dropout(dropout)\n",
        "\n",
        "        self.hidden = nn.Linear(input_dim, hidden_dim)\n",
        "        self.output = nn.Linear(hidden_dim, output_dim)\n",
        "\n",
        "    def forward(self, X, **kwargs):\n",
        "        X = F.relu(self.hidden(X))\n",
        "        X = self.dropout(X)\n",
        "        X = F.softmax(self.output(X), dim=-1)\n",
        "        return X"
      ],
      "execution_count": 95,
      "outputs": []
    },
    {
      "cell_type": "markdown",
      "metadata": {
        "id": "HW_onRy7nP7-"
      },
      "source": [
        "skorch allows to use PyTorch's networks in the SciKit-Learn setting:"
      ]
    },
    {
      "cell_type": "code",
      "metadata": {
        "id": "o0Ju8zFpnP7-"
      },
      "source": [
        "from skorch import NeuralNetClassifier"
      ],
      "execution_count": 96,
      "outputs": []
    },
    {
      "cell_type": "code",
      "metadata": {
        "id": "wzuhSf9UnP7-"
      },
      "source": [
        "torch.manual_seed(0)\n",
        "\n",
        "net = NeuralNetClassifier(\n",
        "    ClassifierModule,\n",
        "    max_epochs=20,\n",
        "    lr=0.1,\n",
        "    device=device,\n",
        ")"
      ],
      "execution_count": 97,
      "outputs": []
    },
    {
      "cell_type": "code",
      "metadata": {
        "id": "w3xGSz77nP7-",
        "colab": {
          "base_uri": "https://localhost:8080/"
        },
        "outputId": "10df8f3c-c337-4284-fd82-857e9f8baa09"
      },
      "source": [
        "net.fit(X_train, y_train);"
      ],
      "execution_count": 98,
      "outputs": [
        {
          "output_type": "stream",
          "text": [
            "  epoch    train_loss    valid_acc    valid_loss     dur\n",
            "-------  ------------  -----------  ------------  ------\n",
            "      1        \u001b[36m0.7754\u001b[0m       \u001b[32m0.9011\u001b[0m        \u001b[35m0.3586\u001b[0m  0.9760\n",
            "      2        \u001b[36m0.4101\u001b[0m       \u001b[32m0.9195\u001b[0m        \u001b[35m0.2785\u001b[0m  1.0132\n",
            "      3        \u001b[36m0.3419\u001b[0m       \u001b[32m0.9320\u001b[0m        \u001b[35m0.2369\u001b[0m  0.9837\n",
            "      4        \u001b[36m0.3070\u001b[0m       \u001b[32m0.9408\u001b[0m        \u001b[35m0.2108\u001b[0m  0.9851\n",
            "      5        \u001b[36m0.2804\u001b[0m       \u001b[32m0.9454\u001b[0m        \u001b[35m0.1921\u001b[0m  0.9566\n",
            "      6        \u001b[36m0.2589\u001b[0m       \u001b[32m0.9500\u001b[0m        \u001b[35m0.1779\u001b[0m  0.9564\n",
            "      7        \u001b[36m0.2467\u001b[0m       \u001b[32m0.9529\u001b[0m        \u001b[35m0.1668\u001b[0m  0.9641\n",
            "      8        \u001b[36m0.2329\u001b[0m       \u001b[32m0.9546\u001b[0m        \u001b[35m0.1571\u001b[0m  0.9627\n",
            "      9        \u001b[36m0.2184\u001b[0m       \u001b[32m0.9570\u001b[0m        \u001b[35m0.1491\u001b[0m  0.9703\n",
            "     10        \u001b[36m0.2147\u001b[0m       \u001b[32m0.9582\u001b[0m        \u001b[35m0.1451\u001b[0m  0.9786\n",
            "     11        \u001b[36m0.2072\u001b[0m       \u001b[32m0.9589\u001b[0m        \u001b[35m0.1390\u001b[0m  0.9735\n",
            "     12        \u001b[36m0.2004\u001b[0m       \u001b[32m0.9607\u001b[0m        \u001b[35m0.1340\u001b[0m  0.9602\n",
            "     13        \u001b[36m0.1915\u001b[0m       \u001b[32m0.9617\u001b[0m        \u001b[35m0.1310\u001b[0m  0.9776\n",
            "     14        \u001b[36m0.1874\u001b[0m       0.9614        \u001b[35m0.1272\u001b[0m  0.9738\n",
            "     15        \u001b[36m0.1843\u001b[0m       \u001b[32m0.9640\u001b[0m        \u001b[35m0.1241\u001b[0m  0.9668\n",
            "     16        \u001b[36m0.1786\u001b[0m       \u001b[32m0.9648\u001b[0m        \u001b[35m0.1201\u001b[0m  0.9641\n",
            "     17        \u001b[36m0.1758\u001b[0m       \u001b[32m0.9656\u001b[0m        \u001b[35m0.1187\u001b[0m  0.9667\n",
            "     18        \u001b[36m0.1722\u001b[0m       0.9652        \u001b[35m0.1171\u001b[0m  0.9783\n",
            "     19        \u001b[36m0.1680\u001b[0m       \u001b[32m0.9672\u001b[0m        \u001b[35m0.1141\u001b[0m  0.9611\n",
            "     20        \u001b[36m0.1650\u001b[0m       0.9665        \u001b[35m0.1130\u001b[0m  0.9565\n"
          ],
          "name": "stdout"
        }
      ]
    },
    {
      "cell_type": "markdown",
      "metadata": {
        "id": "U1cc3h0cnP7_"
      },
      "source": [
        "## Prediction"
      ]
    },
    {
      "cell_type": "code",
      "metadata": {
        "id": "1uM37wqZnP7_"
      },
      "source": [
        "from sklearn.metrics import accuracy_score"
      ],
      "execution_count": 99,
      "outputs": []
    },
    {
      "cell_type": "code",
      "metadata": {
        "id": "cZ319LnTnP7_",
        "colab": {
          "base_uri": "https://localhost:8080/"
        },
        "outputId": "40c6b21a-8b8b-405c-90f8-e8ad52600f61"
      },
      "source": [
        "y_pred = net.predict(X_test)\n",
        "y_pred.shape"
      ],
      "execution_count": 100,
      "outputs": [
        {
          "output_type": "execute_result",
          "data": {
            "text/plain": [
              "(7000,)"
            ]
          },
          "metadata": {
            "tags": []
          },
          "execution_count": 100
        }
      ]
    },
    {
      "cell_type": "code",
      "metadata": {
        "colab": {
          "base_uri": "https://localhost:8080/",
          "height": 399
        },
        "id": "Dr_iXnWysYPD",
        "outputId": "598f57db-0113-4e38-c1e7-5af78461252e"
      },
      "source": [
        "df_val = pd.DataFrame({'Actual': y_test, 'Predicted':y_pred})\n",
        "df_val"
      ],
      "execution_count": 101,
      "outputs": [
        {
          "output_type": "execute_result",
          "data": {
            "text/html": [
              "<div>\n",
              "<style scoped>\n",
              "    .dataframe tbody tr th:only-of-type {\n",
              "        vertical-align: middle;\n",
              "    }\n",
              "\n",
              "    .dataframe tbody tr th {\n",
              "        vertical-align: top;\n",
              "    }\n",
              "\n",
              "    .dataframe thead th {\n",
              "        text-align: right;\n",
              "    }\n",
              "</style>\n",
              "<table border=\"1\" class=\"dataframe\">\n",
              "  <thead>\n",
              "    <tr style=\"text-align: right;\">\n",
              "      <th></th>\n",
              "      <th>Actual</th>\n",
              "      <th>Predicted</th>\n",
              "    </tr>\n",
              "  </thead>\n",
              "  <tbody>\n",
              "    <tr>\n",
              "      <th>0</th>\n",
              "      <td>6</td>\n",
              "      <td>6</td>\n",
              "    </tr>\n",
              "    <tr>\n",
              "      <th>1</th>\n",
              "      <td>2</td>\n",
              "      <td>2</td>\n",
              "    </tr>\n",
              "    <tr>\n",
              "      <th>2</th>\n",
              "      <td>7</td>\n",
              "      <td>7</td>\n",
              "    </tr>\n",
              "    <tr>\n",
              "      <th>3</th>\n",
              "      <td>5</td>\n",
              "      <td>5</td>\n",
              "    </tr>\n",
              "    <tr>\n",
              "      <th>4</th>\n",
              "      <td>7</td>\n",
              "      <td>7</td>\n",
              "    </tr>\n",
              "    <tr>\n",
              "      <th>...</th>\n",
              "      <td>...</td>\n",
              "      <td>...</td>\n",
              "    </tr>\n",
              "    <tr>\n",
              "      <th>6995</th>\n",
              "      <td>3</td>\n",
              "      <td>3</td>\n",
              "    </tr>\n",
              "    <tr>\n",
              "      <th>6996</th>\n",
              "      <td>1</td>\n",
              "      <td>1</td>\n",
              "    </tr>\n",
              "    <tr>\n",
              "      <th>6997</th>\n",
              "      <td>2</td>\n",
              "      <td>2</td>\n",
              "    </tr>\n",
              "    <tr>\n",
              "      <th>6998</th>\n",
              "      <td>5</td>\n",
              "      <td>5</td>\n",
              "    </tr>\n",
              "    <tr>\n",
              "      <th>6999</th>\n",
              "      <td>6</td>\n",
              "      <td>6</td>\n",
              "    </tr>\n",
              "  </tbody>\n",
              "</table>\n",
              "<p>7000 rows × 2 columns</p>\n",
              "</div>"
            ],
            "text/plain": [
              "      Actual  Predicted\n",
              "0          6          6\n",
              "1          2          2\n",
              "2          7          7\n",
              "3          5          5\n",
              "4          7          7\n",
              "...      ...        ...\n",
              "6995       3          3\n",
              "6996       1          1\n",
              "6997       2          2\n",
              "6998       5          5\n",
              "6999       6          6\n",
              "\n",
              "[7000 rows x 2 columns]"
            ]
          },
          "metadata": {
            "tags": []
          },
          "execution_count": 101
        }
      ]
    },
    {
      "cell_type": "code",
      "metadata": {
        "id": "Hncx1k5JnP7_",
        "colab": {
          "base_uri": "https://localhost:8080/"
        },
        "outputId": "80b91961-bcf4-4775-bcdc-e0186dc408b3"
      },
      "source": [
        "accuracy_score(y_test, y_pred)"
      ],
      "execution_count": 102,
      "outputs": [
        {
          "output_type": "execute_result",
          "data": {
            "text/plain": [
              "0.962"
            ]
          },
          "metadata": {
            "tags": []
          },
          "execution_count": 102
        }
      ]
    },
    {
      "cell_type": "code",
      "metadata": {
        "colab": {
          "base_uri": "https://localhost:8080/"
        },
        "id": "s4sWbGMPuPvB",
        "outputId": "0d3d630b-e827-40ed-d25e-fe6531555bb9"
      },
      "source": [
        "from sklearn.metrics import confusion_matrix\n",
        "\n",
        "confusion_matrix(y_test, y_pred)"
      ],
      "execution_count": 117,
      "outputs": [
        {
          "output_type": "execute_result",
          "data": {
            "text/plain": [
              "array([[638,   0,   0,   2,   2,   5,   4,   0,   2,   2],\n",
              "       [  0, 825,   4,   2,   0,   0,   0,   0,   1,   1],\n",
              "       [  1,   5, 695,   7,   3,   0,   1,   6,   4,   0],\n",
              "       [  1,   1,   7, 684,   1,   7,   2,   8,   1,   6],\n",
              "       [  2,   2,   1,   0, 608,   0,   3,   4,   2,  15],\n",
              "       [  1,   2,   1,  13,   2, 615,   7,   2,   4,   4],\n",
              "       [  2,   0,   0,   0,   2,   4, 662,   0,   1,   0],\n",
              "       [  4,   3,   3,   1,   8,   0,   0, 717,   2,   6],\n",
              "       [  6,   8,   3,   6,   4,   3,   5,   2, 628,   5],\n",
              "       [  0,   3,   0,  10,  13,   1,   1,   8,   1, 662]])"
            ]
          },
          "metadata": {
            "tags": []
          },
          "execution_count": 117
        }
      ]
    },
    {
      "cell_type": "markdown",
      "metadata": {
        "id": "sT-48MjqnP8A"
      },
      "source": [
        "An accuracy of about 96% for a network with only one hidden layer is not too bad.\n",
        "\n",
        "Let's take a look at some predictions that went wrong:"
      ]
    },
    {
      "cell_type": "code",
      "metadata": {
        "id": "0qaCp4qinP8A"
      },
      "source": [
        "error_mask = y_pred != y_test"
      ],
      "execution_count": 103,
      "outputs": []
    },
    {
      "cell_type": "code",
      "metadata": {
        "id": "PEKq-VYknP8A",
        "colab": {
          "base_uri": "https://localhost:8080/",
          "height": 108
        },
        "outputId": "0d06ee13-bc25-4daa-b65d-07e24ea1f00e"
      },
      "source": [
        "plot_example(X_test[error_mask], y_pred[error_mask])"
      ],
      "execution_count": 104,
      "outputs": [
        {
          "output_type": "display_data",
          "data": {
            "image/png": "[encoded data removed]",
            "text/plain": [
              "<Figure size 432x288 with 5 Axes>"
            ]
          },
          "metadata": {
            "tags": []
          }
        }
      ]
    },
    {
      "cell_type": "markdown",
      "metadata": {
        "id": "gHBJqb3vnP8B"
      },
      "source": [
        "# Convolutional Network\n",
        "PyTorch expects a 4 dimensional tensor as input for its 2D convolution layer. The dimensions represent:\n",
        "* Batch size\n",
        "* Number of channel\n",
        "* Height\n",
        "* Width\n",
        "\n",
        "As initial batch size the number of examples needs to be provided. MNIST data has only one channel. As stated above, each MNIST vector represents a 28x28 pixel image. Hence, the resulting shape for PyTorch tensor needs to be (x, 1, 28, 28). "
      ]
    },
    {
      "cell_type": "code",
      "metadata": {
        "id": "-2AI1YlBnP8B"
      },
      "source": [
        "XCnn = X.reshape(-1, 1, 28, 28)"
      ],
      "execution_count": 105,
      "outputs": []
    },
    {
      "cell_type": "code",
      "metadata": {
        "id": "KAls_Rz0nP8B",
        "colab": {
          "base_uri": "https://localhost:8080/"
        },
        "outputId": "42f0ee41-4773-42e5-bc98-58c081471359"
      },
      "source": [
        "XCnn.shape"
      ],
      "execution_count": 106,
      "outputs": [
        {
          "output_type": "execute_result",
          "data": {
            "text/plain": [
              "(70000, 1, 28, 28)"
            ]
          },
          "metadata": {
            "tags": []
          },
          "execution_count": 106
        }
      ]
    },
    {
      "cell_type": "code",
      "metadata": {
        "id": "VWF8yfXNnP8B"
      },
      "source": [
        "XCnn_train, XCnn_test, y_train, y_test = train_test_split(XCnn, y, test_size=0.1, random_state=1)"
      ],
      "execution_count": 107,
      "outputs": []
    },
    {
      "cell_type": "code",
      "metadata": {
        "id": "Q_Ua5x5FnP8C",
        "colab": {
          "base_uri": "https://localhost:8080/"
        },
        "outputId": "293ef418-e73f-4b9d-95c1-bf3267ab4f04"
      },
      "source": [
        "XCnn_train.shape, y_train.shape"
      ],
      "execution_count": 108,
      "outputs": [
        {
          "output_type": "execute_result",
          "data": {
            "text/plain": [
              "((63000, 1, 28, 28), (63000,))"
            ]
          },
          "metadata": {
            "tags": []
          },
          "execution_count": 108
        }
      ]
    },
    {
      "cell_type": "code",
      "metadata": {
        "id": "8ZMmb1E7nP8C"
      },
      "source": [
        "class Cnn(nn.Module):\n",
        "    def __init__(self, dropout=0.5):\n",
        "        super(Cnn, self).__init__()\n",
        "        self.conv1 = nn.Conv2d(1, 32, kernel_size=3)\n",
        "        self.conv2 = nn.Conv2d(32, 64, kernel_size=3)\n",
        "        self.conv2_drop = nn.Dropout2d(p=dropout)\n",
        "        self.fc1 = nn.Linear(1600, 100) # 1600 = number channels * width * height\n",
        "        self.fc2 = nn.Linear(100, 10)\n",
        "        self.fc1_drop = nn.Dropout(p=dropout)\n",
        "\n",
        "    def forward(self, x):\n",
        "        x = torch.relu(F.max_pool2d(self.conv1(x), 2))\n",
        "        x = torch.relu(F.max_pool2d(self.conv2_drop(self.conv2(x)), 2))\n",
        "        \n",
        "        # flatten over channel, height and width = 1600\n",
        "        x = x.view(-1, x.size(1) * x.size(2) * x.size(3))\n",
        "        \n",
        "        x = torch.relu(self.fc1_drop(self.fc1(x)))\n",
        "        x = torch.softmax(self.fc2(x), dim=-1)\n",
        "        return x"
      ],
      "execution_count": 109,
      "outputs": []
    },
    {
      "cell_type": "code",
      "metadata": {
        "id": "jxt_1RUmnP8C"
      },
      "source": [
        "torch.manual_seed(0)\n",
        "\n",
        "cnn = NeuralNetClassifier(\n",
        "    Cnn,\n",
        "    max_epochs=10,\n",
        "    lr=0.002,\n",
        "    optimizer=torch.optim.Adam,\n",
        "    device=device,\n",
        ")"
      ],
      "execution_count": 110,
      "outputs": []
    },
    {
      "cell_type": "code",
      "metadata": {
        "id": "Ek66AzoEnP8D",
        "colab": {
          "base_uri": "https://localhost:8080/"
        },
        "outputId": "76aa186a-d5c1-47c4-ed69-13351f790f69"
      },
      "source": [
        "cnn.fit(XCnn_train, y_train);"
      ],
      "execution_count": 111,
      "outputs": [
        {
          "output_type": "stream",
          "text": [
            "  epoch    train_loss    valid_acc    valid_loss     dur\n",
            "-------  ------------  -----------  ------------  ------\n",
            "      1        \u001b[36m0.4285\u001b[0m       \u001b[32m0.9752\u001b[0m        \u001b[35m0.0791\u001b[0m  2.0325\n",
            "      2        \u001b[36m0.1611\u001b[0m       \u001b[32m0.9830\u001b[0m        \u001b[35m0.0546\u001b[0m  1.9116\n",
            "      3        \u001b[36m0.1287\u001b[0m       \u001b[32m0.9852\u001b[0m        \u001b[35m0.0473\u001b[0m  1.8945\n",
            "      4        \u001b[36m0.1138\u001b[0m       \u001b[32m0.9864\u001b[0m        \u001b[35m0.0416\u001b[0m  1.9085\n",
            "      5        \u001b[36m0.1011\u001b[0m       \u001b[32m0.9869\u001b[0m        0.0417  1.9122\n",
            "      6        \u001b[36m0.0931\u001b[0m       \u001b[32m0.9881\u001b[0m        \u001b[35m0.0389\u001b[0m  1.9031\n",
            "      7        \u001b[36m0.0869\u001b[0m       0.9863        0.0439  1.9098\n",
            "      8        \u001b[36m0.0814\u001b[0m       \u001b[32m0.9906\u001b[0m        \u001b[35m0.0344\u001b[0m  1.9093\n",
            "      9        \u001b[36m0.0785\u001b[0m       0.9897        0.0347  1.8957\n",
            "     10        \u001b[36m0.0749\u001b[0m       0.9896        \u001b[35m0.0340\u001b[0m  1.9051\n"
          ],
          "name": "stdout"
        }
      ]
    },
    {
      "cell_type": "code",
      "metadata": {
        "id": "EYDwEP0TnP8D",
        "colab": {
          "base_uri": "https://localhost:8080/"
        },
        "outputId": "fcba5f2a-c421-4081-9f86-84f1e67cc9a8"
      },
      "source": [
        "y_pred_cnn = cnn.predict(XCnn_test)\n",
        "y_pred_cnn.shape"
      ],
      "execution_count": 112,
      "outputs": [
        {
          "output_type": "execute_result",
          "data": {
            "text/plain": [
              "(7000,)"
            ]
          },
          "metadata": {
            "tags": []
          },
          "execution_count": 112
        }
      ]
    },
    {
      "cell_type": "code",
      "metadata": {
        "colab": {
          "base_uri": "https://localhost:8080/",
          "height": 399
        },
        "id": "cxIprFqjtE8H",
        "outputId": "69c97bb2-e970-466a-94e5-15cbce915017"
      },
      "source": [
        "df_cnn = pd.DataFrame({'Actual': y_test, 'Predicted':y_pred_cnn})\n",
        "df_cnn"
      ],
      "execution_count": 113,
      "outputs": [
        {
          "output_type": "execute_result",
          "data": {
            "text/html": [
              "<div>\n",
              "<style scoped>\n",
              "    .dataframe tbody tr th:only-of-type {\n",
              "        vertical-align: middle;\n",
              "    }\n",
              "\n",
              "    .dataframe tbody tr th {\n",
              "        vertical-align: top;\n",
              "    }\n",
              "\n",
              "    .dataframe thead th {\n",
              "        text-align: right;\n",
              "    }\n",
              "</style>\n",
              "<table border=\"1\" class=\"dataframe\">\n",
              "  <thead>\n",
              "    <tr style=\"text-align: right;\">\n",
              "      <th></th>\n",
              "      <th>Actual</th>\n",
              "      <th>Predicted</th>\n",
              "    </tr>\n",
              "  </thead>\n",
              "  <tbody>\n",
              "    <tr>\n",
              "      <th>0</th>\n",
              "      <td>6</td>\n",
              "      <td>6</td>\n",
              "    </tr>\n",
              "    <tr>\n",
              "      <th>1</th>\n",
              "      <td>2</td>\n",
              "      <td>2</td>\n",
              "    </tr>\n",
              "    <tr>\n",
              "      <th>2</th>\n",
              "      <td>7</td>\n",
              "      <td>7</td>\n",
              "    </tr>\n",
              "    <tr>\n",
              "      <th>3</th>\n",
              "      <td>5</td>\n",
              "      <td>5</td>\n",
              "    </tr>\n",
              "    <tr>\n",
              "      <th>4</th>\n",
              "      <td>7</td>\n",
              "      <td>7</td>\n",
              "    </tr>\n",
              "    <tr>\n",
              "      <th>...</th>\n",
              "      <td>...</td>\n",
              "      <td>...</td>\n",
              "    </tr>\n",
              "    <tr>\n",
              "      <th>6995</th>\n",
              "      <td>3</td>\n",
              "      <td>3</td>\n",
              "    </tr>\n",
              "    <tr>\n",
              "      <th>6996</th>\n",
              "      <td>1</td>\n",
              "      <td>1</td>\n",
              "    </tr>\n",
              "    <tr>\n",
              "      <th>6997</th>\n",
              "      <td>2</td>\n",
              "      <td>2</td>\n",
              "    </tr>\n",
              "    <tr>\n",
              "      <th>6998</th>\n",
              "      <td>5</td>\n",
              "      <td>5</td>\n",
              "    </tr>\n",
              "    <tr>\n",
              "      <th>6999</th>\n",
              "      <td>6</td>\n",
              "      <td>6</td>\n",
              "    </tr>\n",
              "  </tbody>\n",
              "</table>\n",
              "<p>7000 rows × 2 columns</p>\n",
              "</div>"
            ],
            "text/plain": [
              "      Actual  Predicted\n",
              "0          6          6\n",
              "1          2          2\n",
              "2          7          7\n",
              "3          5          5\n",
              "4          7          7\n",
              "...      ...        ...\n",
              "6995       3          3\n",
              "6996       1          1\n",
              "6997       2          2\n",
              "6998       5          5\n",
              "6999       6          6\n",
              "\n",
              "[7000 rows x 2 columns]"
            ]
          },
          "metadata": {
            "tags": []
          },
          "execution_count": 113
        }
      ]
    },
    {
      "cell_type": "code",
      "metadata": {
        "id": "9eAxsZJGnP8D",
        "colab": {
          "base_uri": "https://localhost:8080/"
        },
        "outputId": "3e9b9965-6f15-40a4-e42b-ee28e63b9b21"
      },
      "source": [
        "accuracy_score(y_test, y_pred_cnn)"
      ],
      "execution_count": 114,
      "outputs": [
        {
          "output_type": "execute_result",
          "data": {
            "text/plain": [
              "0.9884285714285714"
            ]
          },
          "metadata": {
            "tags": []
          },
          "execution_count": 114
        }
      ]
    },
    {
      "cell_type": "code",
      "metadata": {
        "colab": {
          "base_uri": "https://localhost:8080/"
        },
        "id": "R4YAt5eUuf9u",
        "outputId": "d39eee55-79e3-4a1d-8c6b-8bd4c6561d19"
      },
      "source": [
        "confusion_matrix(y_test, y_pred_cnn)"
      ],
      "execution_count": 118,
      "outputs": [
        {
          "output_type": "execute_result",
          "data": {
            "text/plain": [
              "array([[649,   0,   1,   0,   1,   0,   3,   0,   0,   1],\n",
              "       [  0, 824,   3,   1,   0,   0,   1,   3,   1,   0],\n",
              "       [  0,   1, 714,   2,   0,   0,   1,   4,   0,   0],\n",
              "       [  0,   1,   3, 707,   0,   4,   0,   2,   0,   1],\n",
              "       [  0,   0,   1,   0, 628,   0,   1,   1,   2,   4],\n",
              "       [  0,   0,   0,   2,   0, 642,   4,   0,   2,   1],\n",
              "       [  1,   0,   0,   0,   0,   1, 667,   0,   2,   0],\n",
              "       [  0,   1,   2,   1,   0,   0,   0, 740,   0,   0],\n",
              "       [  2,   2,   3,   0,   1,   1,   3,   1, 657,   0],\n",
              "       [  0,   1,   2,   1,   2,   0,   1,   0,   1, 691]])"
            ]
          },
          "metadata": {
            "tags": []
          },
          "execution_count": 118
        }
      ]
    },
    {
      "cell_type": "markdown",
      "metadata": {
        "id": "oVLUE3q_nP8D"
      },
      "source": [
        "An accuracy of >98% should suffice for this example!\n",
        "\n",
        "Let's see how we fare on the examples that went wrong before:"
      ]
    },
    {
      "cell_type": "code",
      "metadata": {
        "id": "1_nPcln1nP8E",
        "colab": {
          "base_uri": "https://localhost:8080/"
        },
        "outputId": "c5c8a00d-2203-4029-b83c-03cebacfd69b"
      },
      "source": [
        "accuracy_score(y_test[error_mask], y_pred_cnn[error_mask])"
      ],
      "execution_count": 115,
      "outputs": [
        {
          "output_type": "execute_result",
          "data": {
            "text/plain": [
              "0.8045112781954887"
            ]
          },
          "metadata": {
            "tags": []
          },
          "execution_count": 115
        }
      ]
    },
    {
      "cell_type": "markdown",
      "metadata": {
        "id": "5LtWmEIznP8E"
      },
      "source": [
        "Over 70% of the previously misclassified images are now correctly identified."
      ]
    },
    {
      "cell_type": "code",
      "metadata": {
        "id": "Ho72dRzhnP8E",
        "colab": {
          "base_uri": "https://localhost:8080/",
          "height": 108
        },
        "outputId": "a4987325-96e6-4b73-f0db-91244b004a12"
      },
      "source": [
        "plot_example(X_test[error_mask], y_pred_cnn[error_mask])"
      ],
      "execution_count": 116,
      "outputs": [
        {
          "output_type": "display_data",
          "data": {
            "image/png": "[encoded data removed]",
            "text/plain": [
              "<Figure size 432x288 with 5 Axes>"
            ]
          },
          "metadata": {
            "tags": []
          }
        }
      ]
    }
  ]
}